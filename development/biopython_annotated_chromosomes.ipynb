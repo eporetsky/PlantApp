{
 "cells": [
  {
   "cell_type": "markdown",
   "metadata": {},
   "source": [
    "# Biopython Annotated Chromosomes Diagram"
   ]
  },
  {
   "cell_type": "code",
   "execution_count": null,
   "metadata": {},
   "outputs": [],
   "source": [
    "import gzip\n",
    "import os\n",
    "\n",
    "import pandas as pd\n",
    "from Bio import SeqIO"
   ]
  },
  {
   "cell_type": "code",
   "execution_count": null,
   "metadata": {},
   "outputs": [],
   "source": [
    "chrom_list = []\n",
    "for file_name in os.listdir('./'):\n",
    "    suffix = file_name.split(\".\")[-1]\n",
    "    if file_name[-4:] != \"a.gz\":\n",
    "        continue\n",
    "    fasta_file = gzip.open(file_name, mode='rt')\n",
    "    for chrom in SeqIO.parse(fasta_file, \"fasta\"):\n",
    "        # Check if the sequence ID could be coerced into an integer, which is likely to be a chromosome\n",
    "        if not any([chrom.id.replace(prefix, \"\").isdigit() for prefix in [\"Chr\", \"chr\", \"C\", \"c\"]]):\n",
    "            continue\n",
    "        # Add species and genotype columns for a better annotation\n",
    "        chrom_list.append([file_name, chrom.id, len(chrom.seq)])\n",
    "\n",
    "# Dataframe that contains each chromosome lenght\n",
    "df = pd.DataFrame(chrom_list)\n",
    "df.columns = [\"genome\", \"chr\", \"len\"]\n",
    "df"
   ]
  },
  {
   "cell_type": "code",
   "execution_count": null,
   "metadata": {},
   "outputs": [],
   "source": [
    "from reportlab.lib.units import cm\n",
    "from Bio import SeqIO\n",
    "from Bio.Graphics import BasicChromosome\n",
    "\n",
    "selected = df[df[\"genome\"]==\"Zmays_493_APGv4.fa.gz\"]\n",
    "entries = selected[[\"chr\", \"len\"]].values.tolist()\n",
    "max_len = df[\"len\"].max()\n",
    "telomere_length = 2000000\n",
    "\n",
    "chr_diagram = BasicChromosome.Organism()\n",
    "chr_diagram.page_size = (29.7 * cm, 21 * cm)  # A4 landscape\n",
    "\n",
    "for index, (name, length) in enumerate(entries):\n",
    "    \n",
    "    cur_chromosome = BasicChromosome.Chromosome(name)\n",
    "    # Set the scale to the MAXIMUM length plus the two telomeres in bp,\n",
    "    # want the same scale used on all five chromosomes so they can be\n",
    "    # compared to each other\n",
    "    cur_chromosome.scale_num = max_len + 2\n",
    "\n",
    "    # Record an Artemis style integer color in the feature's qualifiers,\n",
    "    # 1 = Black, 2 = Red, 3 = Green, 4 = blue, 5 =cyan, 6 = purple\n",
    "    \n",
    "    # The features can either be SeqFeature objects, or tuples of values: start (int), \n",
    "    # end (int), strand (+1, -1, O or None), label (string), ReportLab color (string or object), \n",
    "    # and optional ReportLab fill color.\n",
    "    \n",
    "    # This will it to every chromsome. Make chromsome specific lists\n",
    "    features = [(1000000,1000000, None, \"ABC1\", \"black\",), \n",
    "                (1000000,1000000, None, \"ABC2\", \"black\",),\n",
    "                (100000000,100000000, None, \"ABC3\", \"blue\", )]\n",
    "    \n",
    "    # Add an opening telomere\n",
    "    start = BasicChromosome.TelomereSegment()\n",
    "    start.scale = telomere_length\n",
    "    cur_chromosome.add(start)\n",
    "    \n",
    "    # Add a body - again using bp as the scale length here.\n",
    "    body = BasicChromosome.AnnotatedChromosomeSegment(length, features)\n",
    "    body.scale = length\n",
    "    cur_chromosome.add(body)\n",
    "    \n",
    "    # Add a closing telomere\n",
    "    end = BasicChromosome.TelomereSegment(inverted=True)\n",
    "    end.scale = telomere_length\n",
    "    cur_chromosome.add(end)\n",
    "    \n",
    "    # This chromosome is done\n",
    "    chr_diagram.add(cur_chromosome)\n",
    "\n",
    "chr_diagram.draw(\"test_chrom.pdf\", \"Genome Diagram\")"
   ]
  }
 ],
 "metadata": {
  "kernelspec": {
   "display_name": "Python 3",
   "language": "python",
   "name": "python3"
  },
  "language_info": {
   "codemirror_mode": {
    "name": "ipython",
    "version": 3
   },
   "file_extension": ".py",
   "mimetype": "text/x-python",
   "name": "python",
   "nbconvert_exporter": "python",
   "pygments_lexer": "ipython3",
   "version": "3.8.2"
  }
 },
 "nbformat": 4,
 "nbformat_minor": 4
}
