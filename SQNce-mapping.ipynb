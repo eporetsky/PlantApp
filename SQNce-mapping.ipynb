{
 "cells": [
  {
   "cell_type": "code",
   "execution_count": 39,
   "id": "together-julian",
   "metadata": {},
   "outputs": [],
   "source": [
    "import os\n",
    "import gzip\n",
    "import sqlite3\n",
    "import zlib\n",
    "import io\n",
    "import numpy as np\n",
    "from sqlite3 import Error\n",
    "import pandas as pd\n",
    "from collections import OrderedDict\n",
    "\n",
    "from Bio import SeqIO \n",
    "from Bio.SeqRecord import SeqRecord\n",
    "from Bio.Seq import Seq"
   ]
  },
  {
   "cell_type": "markdown",
   "id": "quantitative-explorer",
   "metadata": {},
   "source": [
    "# SQNce Mapping-related Tables"
   ]
  },
  {
   "cell_type": "code",
   "execution_count": 23,
   "id": "respective-underground",
   "metadata": {},
   "outputs": [],
   "source": [
    "# TODO add documentation to all SQNce creation functions\n",
    "\n",
    "# Establish connection with SQNce.db, generating a new SQLite3 database if needed\n",
    "def sql_connection():\n",
    "    try:\n",
    "        con = sqlite3.connect('SQNce.db')\n",
    "        print(\"Connection established.\")\n",
    "        return(con)\n",
    "    except Error:\n",
    "        print(Error)\n",
    "\n",
    "# After establishing connection with SQNce create the specified tables\n",
    "def sql_table(con):\n",
    "    cursorObj = con.cursor()\n",
    "    \n",
    "    cursorObj.execute(\"\"\"CREATE TABLE IF NOT EXISTS mapping_traits(\n",
    "                         experiment text,\n",
    "                         trait text,\n",
    "                         description text,\n",
    "                         plot blob,\n",
    "                         processed text,\n",
    "                         score integer,\n",
    "                         num_candidates integer)\n",
    "                         \"\"\")   \n",
    "\n",
    "    cursorObj.execute(\"\"\"CREATE TABLE IF NOT EXISTS mapping_results(\n",
    "                         experiment text,\n",
    "                         trait text,\n",
    "                         snp text,\n",
    "                         chrom text,\n",
    "                         pos integer,\n",
    "                         ref text,\n",
    "                         alt text,\n",
    "                         effect REAL,\n",
    "                         pval REAL)\n",
    "                         \"\"\")\n",
    "    cursorObj.execute(\"\"\"CREATE TABLE IF NOT EXISTS mapping_candidates(\n",
    "                         gene_id text,\n",
    "                         gene_symbol text,\n",
    "                         gene_annotation text,\n",
    "                         gene_start integer,\n",
    "                         gene_end integer,\n",
    "                         distance integer,\n",
    "                         experiment text,\n",
    "                         trait text,\n",
    "                         snp text,\n",
    "                         chrom text,\n",
    "                         pos integer,\n",
    "                         pval REAL,\n",
    "                         effect REAL)\n",
    "                         \"\"\")   \n",
    "    con.commit()"
   ]
  },
  {
   "cell_type": "code",
   "execution_count": 24,
   "id": "southeast-moses",
   "metadata": {},
   "outputs": [
    {
     "name": "stdout",
     "output_type": "stream",
     "text": [
      "Connection established.\n"
     ]
    }
   ],
   "source": [
    "con = sql_connection()\n",
    "def drop_trait_tables(con):\n",
    "    cursorObj = con.cursor()\n",
    "    cursorObj.execute(\"\"\"DROP TABLE mapping_traits\"\"\")\n",
    "    cursorObj.execute(\"\"\"DROP TABLE mapping_results\"\"\")\n",
    "    cursorObj.execute(\"\"\"DROP TABLE mapping_candidates\"\"\")\n",
    "    con.commit()\n",
    "drop_trait_tables(con)\n",
    "con.close()"
   ]
  },
  {
   "cell_type": "code",
   "execution_count": 25,
   "id": "suspected-christopher",
   "metadata": {},
   "outputs": [
    {
     "name": "stdout",
     "output_type": "stream",
     "text": [
      "Connection established.\n"
     ]
    }
   ],
   "source": [
    "# Current implementation requires re-parsing of all the input files to create SQNce\n",
    "# TODO SQNce update functions to parse input data only if not previously included \n",
    "#if os.path.exists(\"SQNce-proteomes.db\"): os.remove(\"SQNce-proteomes.db\")\n",
    "con = sql_connection()\n",
    "sql_table(con)\n",
    "con.close()"
   ]
  },
  {
   "cell_type": "markdown",
   "id": "differential-assets",
   "metadata": {},
   "source": [
    "# SQNce Mapping-related Functions"
   ]
  },
  {
   "cell_type": "code",
   "execution_count": 33,
   "id": "catholic-generic",
   "metadata": {},
   "outputs": [
    {
     "data": {
      "text/plain": [
       "[{'label': '0', 'value': 0},\n",
       " {'label': '1', 'value': 1},\n",
       " {'label': '2', 'value': 2},\n",
       " {'label': '3', 'value': 3},\n",
       " {'label': '4', 'value': 4},\n",
       " {'label': '5', 'value': 5}]"
      ]
     },
     "execution_count": 33,
     "metadata": {},
     "output_type": "execute_result"
    }
   ],
   "source": [
    "[{\"label\": str(n), \"value\": n} for n in range(6)]"
   ]
  },
  {
   "cell_type": "code",
   "execution_count": 26,
   "id": "normal-mainland",
   "metadata": {},
   "outputs": [],
   "source": [
    "def mapping_traits_insert_traits(con, entities):\n",
    "    cursorObj = con.cursor()\n",
    "    cursorObj.executemany(\"\"\"INSERT INTO mapping_traits(\n",
    "                         experiment, \n",
    "                         trait, \n",
    "                         description,\n",
    "                         plot,\n",
    "                         processed,\n",
    "                         score,\n",
    "                         num_candidates) \n",
    "                         VALUES(?,?,?,?,?,?,?)\"\"\", entities)\n",
    "    con.commit()\n",
    "\n",
    "def mapping_traits_insert_results(con, entities):\n",
    "    cursorObj = con.cursor()\n",
    "    cursorObj.executemany(\"\"\"INSERT INTO mapping_results(\n",
    "                         experiment, \n",
    "                         trait, \n",
    "                         snp,\n",
    "                         chrom,\n",
    "                         pos,\n",
    "                         ref,\n",
    "                         alt,\n",
    "                         effect,\n",
    "                         pval) \n",
    "                         VALUES(?,?,?,?,?,?,?,?,?)\"\"\", entities)\n",
    "    con.commit()\n",
    "    \n",
    "def mapping_traits_insert_candidates(con, entities):\n",
    "    cursorObj = con.cursor()\n",
    "    cursorObj.execute(\"\"\"INSERT INTO mapping_candidates(\n",
    "                         gene_id, \n",
    "                         gene_symbol, \n",
    "                         gene_annotation,\n",
    "                         gene_start,\n",
    "                         gene_end,\n",
    "                         distance,\n",
    "                         experiment,\n",
    "                         trait,\n",
    "                         snp,\n",
    "                         chrom,\n",
    "                         pos,\n",
    "                         pval,\n",
    "                         effect) \n",
    "                         VALUES(?,?,?,?,?,?,?,?,?,?,?,?,?)\"\"\", entities)\n",
    "    con.commit()\n",
    "\n"
   ]
  },
  {
   "cell_type": "markdown",
   "id": "upset-fever",
   "metadata": {},
   "source": [
    "# SQNce Load the rMVP GLM GWAS Results"
   ]
  },
  {
   "cell_type": "code",
   "execution_count": 27,
   "id": "russian-milton",
   "metadata": {},
   "outputs": [
    {
     "name": "stdout",
     "output_type": "stream",
     "text": [
      "Connection established.\n"
     ]
    }
   ],
   "source": [
    "con = sql_connection()\n",
    "\n",
    "# The name of the experiment is also the name of the folder\n",
    "experiment = \"282F_SC_5\"\n",
    "\n",
    "fl_pvals_dict = {}\n",
    "fl_plots_dict = {}\n",
    "fl_name_set = set()\n",
    "for fl in os.listdir(experiment):\n",
    "    # Assume for now only my output files are used\n",
    "    if fl.split(\".\")[-1] == \"png\":\n",
    "        fl_name = fl.replace(\".png\", \"\")\n",
    "        fl_plots_dict[fl_name] = fl\n",
    "    if fl.split(\".\")[-1] == \"csv\":\n",
    "        fl_name = fl.replace(\".sig.csv\", \"\")\n",
    "        fl_pvals_dict[fl_name] = fl\n",
    "    fl_name_set.add(fl_name)\n",
    "fl_name_set\n",
    "\n",
    "\n",
    "all_traits_list = []\n",
    "all_results_list = []\n",
    "\n",
    "# The name of the trait is also the name of the file\n",
    "for trait in fl_name_set:\n",
    "    # Load the trait results dataframe\n",
    "    filename = os.path.join(experiment, fl_pvals_dict[trait])\n",
    "    df = pd.read_csv(filename)\n",
    "    if len(df) == 0:\n",
    "        continue\n",
    "    df = df.sort_values(df.columns[-1])\n",
    "\n",
    "    # Load the trait plot binary variable\n",
    "    filename = os.path.join(experiment, fl_plots_dict[trait])\n",
    "    with open(filename, 'rb') as file: plot_blob = file.read()\n",
    "    \n",
    "    all_traits_list.append([experiment, trait, \"rMVP GLM of 282_SC MR network with E5\", plot_blob, \"Unannotated\", 0, 0])    \n",
    "\n",
    "    # List order: experiment,trait,snp,chrom,pos,ref,alt,effect,pval,plot\n",
    "    #selected_rows_ix = [0]\n",
    "    #selected_rows = df.iloc[selected_rows_ix,].values.tolist()\n",
    "    selected_rows = df.values.tolist()\n",
    "        \n",
    "    for row in selected_rows:\n",
    "        all_results_list.append([experiment, trait, row[0], row[1], row[2], row[3], row[4], row[5], row[7]])\n",
    "\n",
    "mapping_traits_insert_traits(con, all_traits_list)\n",
    "mapping_traits_insert_results(con, all_results_list)"
   ]
  },
  {
   "cell_type": "markdown",
   "id": "temporal-involvement",
   "metadata": {},
   "source": [
    "# html.Img Related"
   ]
  },
  {
   "cell_type": "code",
   "execution_count": null,
   "id": "missing-enforcement",
   "metadata": {},
   "outputs": [],
   "source": [
    "from io import BytesIO\n",
    "def pil_to_b64(im, enc_format=\"png\", **kwargs):\n",
    "    \"\"\"\n",
    "    Converts a PIL Image into base64 string for HTML displaying\n",
    "    :param im: PIL Image object\n",
    "    :param enc_format: The image format for displaying. If saved the image will have that extension.\n",
    "    :return: base64 encoding\n",
    "    \"\"\"\n",
    "\n",
    "    buff = BytesIO()\n",
    "    im.save(buff, format=enc_format, **kwargs)\n",
    "    encoded = base64.b64encode(buff.getvalue()).decode(\"utf-8\")\n",
    "\n",
    "    return encoded\n",
    "\n",
    "# https://stackoverflow.com/questions/14348442/how-do-i-display-a-pil-image-object-in-a-template#14348661\n",
    "import PIL\n",
    "import io\n",
    "from PIL import Image\n",
    "\n",
    "picture_stream = io.BytesIO(fig)\n",
    "picture = Image.open(picture_stream)\n",
    "# In dash you can send the image to html.Img like this:\n",
    "# html.Img(id=\"my-img\",className=\"image\", src=\"data:image/png;base64, \" + pil_to_b64(picture))\n",
    "\n",
    "# picture = PIL.Image.open(picture_stream)\n",
    "# picture.show()\n",
    "# pil_to_b64(picture)"
   ]
  },
  {
   "cell_type": "markdown",
   "id": "current-uruguay",
   "metadata": {},
   "source": [
    "# Groupby Bins"
   ]
  },
  {
   "cell_type": "code",
   "execution_count": 36,
   "id": "possible-hindu",
   "metadata": {},
   "outputs": [
    {
     "data": {
      "text/html": [
       "<div>\n",
       "<style scoped>\n",
       "    .dataframe tbody tr th:only-of-type {\n",
       "        vertical-align: middle;\n",
       "    }\n",
       "\n",
       "    .dataframe tbody tr th {\n",
       "        vertical-align: top;\n",
       "    }\n",
       "\n",
       "    .dataframe thead th {\n",
       "        text-align: right;\n",
       "    }\n",
       "</style>\n",
       "<table border=\"1\" class=\"dataframe\">\n",
       "  <thead>\n",
       "    <tr style=\"text-align: right;\">\n",
       "      <th></th>\n",
       "      <th>gene_id</th>\n",
       "      <th>gene_symbol</th>\n",
       "      <th>gene_annotation</th>\n",
       "      <th>gene_start</th>\n",
       "      <th>gene_end</th>\n",
       "      <th>distance</th>\n",
       "      <th>experiment</th>\n",
       "      <th>trait</th>\n",
       "      <th>snp</th>\n",
       "      <th>chrom</th>\n",
       "      <th>pos</th>\n",
       "      <th>pval</th>\n",
       "      <th>effect</th>\n",
       "    </tr>\n",
       "  </thead>\n",
       "  <tbody>\n",
       "    <tr>\n",
       "      <th>0</th>\n",
       "      <td>Zm00001d049544</td>\n",
       "      <td></td>\n",
       "      <td>UDP-Glycosyltransferase superfamily protein</td>\n",
       "      <td>34206911</td>\n",
       "      <td>34208549</td>\n",
       "      <td>18677</td>\n",
       "      <td>282F_SC_5</td>\n",
       "      <td>cc1539.GLM.1.29.GLM</td>\n",
       "      <td>4-32678274</td>\n",
       "      <td>4</td>\n",
       "      <td>34227226</td>\n",
       "      <td>6.043896e-10</td>\n",
       "      <td>-0.000002</td>\n",
       "    </tr>\n",
       "    <tr>\n",
       "      <th>1</th>\n",
       "      <td>Zm00001d023992</td>\n",
       "      <td>AGD11</td>\n",
       "      <td>Calcium-binding EF-hand family protein</td>\n",
       "      <td>34971922</td>\n",
       "      <td>34972401</td>\n",
       "      <td>64295</td>\n",
       "      <td>282F_SC_5</td>\n",
       "      <td>cc824.GLM.1.17.GLM</td>\n",
       "      <td>10-34087255</td>\n",
       "      <td>10</td>\n",
       "      <td>35036696</td>\n",
       "      <td>1.616159e-09</td>\n",
       "      <td>-0.000002</td>\n",
       "    </tr>\n",
       "    <tr>\n",
       "      <th>2</th>\n",
       "      <td>Zm00001d021653</td>\n",
       "      <td>ATGPT2</td>\n",
       "      <td>glucose-6-phosphate/phosphate translocator 2</td>\n",
       "      <td>159155247</td>\n",
       "      <td>159157703</td>\n",
       "      <td>5859</td>\n",
       "      <td>282F_SC_5</td>\n",
       "      <td>cc953.GLM.1.03.GLM</td>\n",
       "      <td>7-153855138</td>\n",
       "      <td>7</td>\n",
       "      <td>159149388</td>\n",
       "      <td>1.003216e-10</td>\n",
       "      <td>0.000001</td>\n",
       "    </tr>\n",
       "    <tr>\n",
       "      <th>3</th>\n",
       "      <td>Zm00001d029139</td>\n",
       "      <td>ATTPS21</td>\n",
       "      <td>terpene synthase 21</td>\n",
       "      <td>60187028</td>\n",
       "      <td>60190201</td>\n",
       "      <td>468</td>\n",
       "      <td>282F_SC_5</td>\n",
       "      <td>cc985.GLM.1.21.GLM</td>\n",
       "      <td>1-59472251</td>\n",
       "      <td>1</td>\n",
       "      <td>60190669</td>\n",
       "      <td>2.541012e-34</td>\n",
       "      <td>0.000011</td>\n",
       "    </tr>\n",
       "    <tr>\n",
       "      <th>4</th>\n",
       "      <td>Zm00001d051863</td>\n",
       "      <td>CYP715A1</td>\n",
       "      <td>cytochrome P450, family 715, subfamily A, poly...</td>\n",
       "      <td>172596420</td>\n",
       "      <td>172598331</td>\n",
       "      <td>0</td>\n",
       "      <td>282F_SC_5</td>\n",
       "      <td>cc1847.GLM.1.07.GLM</td>\n",
       "      <td>4-169646677</td>\n",
       "      <td>4</td>\n",
       "      <td>172596435</td>\n",
       "      <td>1.110248e-10</td>\n",
       "      <td>0.000003</td>\n",
       "    </tr>\n",
       "  </tbody>\n",
       "</table>\n",
       "</div>"
      ],
      "text/plain": [
       "          gene_id gene_symbol  \\\n",
       "0  Zm00001d049544               \n",
       "1  Zm00001d023992       AGD11   \n",
       "2  Zm00001d021653      ATGPT2   \n",
       "3  Zm00001d029139     ATTPS21   \n",
       "4  Zm00001d051863    CYP715A1   \n",
       "\n",
       "                                     gene_annotation  gene_start   gene_end  \\\n",
       "0        UDP-Glycosyltransferase superfamily protein    34206911   34208549   \n",
       "1             Calcium-binding EF-hand family protein    34971922   34972401   \n",
       "2       glucose-6-phosphate/phosphate translocator 2   159155247  159157703   \n",
       "3                                terpene synthase 21    60187028   60190201   \n",
       "4  cytochrome P450, family 715, subfamily A, poly...   172596420  172598331   \n",
       "\n",
       "   distance experiment                trait          snp chrom        pos  \\\n",
       "0     18677  282F_SC_5  cc1539.GLM.1.29.GLM   4-32678274     4   34227226   \n",
       "1     64295  282F_SC_5   cc824.GLM.1.17.GLM  10-34087255    10   35036696   \n",
       "2      5859  282F_SC_5   cc953.GLM.1.03.GLM  7-153855138     7  159149388   \n",
       "3       468  282F_SC_5   cc985.GLM.1.21.GLM   1-59472251     1   60190669   \n",
       "4         0  282F_SC_5  cc1847.GLM.1.07.GLM  4-169646677     4  172596435   \n",
       "\n",
       "           pval    effect  \n",
       "0  6.043896e-10 -0.000002  \n",
       "1  1.616159e-09 -0.000002  \n",
       "2  1.003216e-10  0.000001  \n",
       "3  2.541012e-34  0.000011  \n",
       "4  1.110248e-10  0.000003  "
      ]
     },
     "execution_count": 36,
     "metadata": {},
     "output_type": "execute_result"
    }
   ],
   "source": [
    "df = pd.read_sql_query('''SELECT * FROM mapping_candidates''', con)\n",
    "df.head()"
   ]
  },
  {
   "cell_type": "code",
   "execution_count": 42,
   "id": "opposed-tackle",
   "metadata": {},
   "outputs": [
    {
     "name": "stdout",
     "output_type": "stream",
     "text": [
      "1\n"
     ]
    }
   ],
   "source": [
    "x = 1.7\n",
    "x = int(x)\n",
    "print(x)"
   ]
  },
  {
   "cell_type": "code",
   "execution_count": 43,
   "id": "noticed-rhythm",
   "metadata": {},
   "outputs": [],
   "source": [
    "df[\"rpos\"] = df[\"pos\"].apply(lambda x: round(x, -5))"
   ]
  },
  {
   "cell_type": "code",
   "execution_count": 45,
   "id": "surprised-palestinian",
   "metadata": {},
   "outputs": [
    {
     "name": "stdout",
     "output_type": "stream",
     "text": [
      "            gene_id gene_symbol  \\\n",
      "0    Zm00001d049544               \n",
      "1    Zm00001d023992       AGD11   \n",
      "2    Zm00001d021653      ATGPT2   \n",
      "3    Zm00001d029139     ATTPS21   \n",
      "4    Zm00001d051863    CYP715A1   \n",
      "..              ...         ...   \n",
      "124  Zm00001d005018               \n",
      "125  Zm00001d040429        AGO4   \n",
      "126  Zm00001d003355               \n",
      "127  Zm00001d003356               \n",
      "128  Zm00001d007718               \n",
      "\n",
      "                                       gene_annotation  gene_start   gene_end  \\\n",
      "0          UDP-Glycosyltransferase superfamily protein    34206911   34208549   \n",
      "1               Calcium-binding EF-hand family protein    34971922   34972401   \n",
      "2         glucose-6-phosphate/phosphate translocator 2   159155247  159157703   \n",
      "3                                  terpene synthase 21    60187028   60190201   \n",
      "4    cytochrome P450, family 715, subfamily A, poly...   172596420  172598331   \n",
      "..                                                 ...         ...        ...   \n",
      "124                         MATE efflux family protein   154107681  154110474   \n",
      "125                           Argonaute family protein    43101748   43117241   \n",
      "126  Heavy metal transport/detoxification superfami...    41415358   41415827   \n",
      "127  Heavy metal transport/detoxification superfami...    41420700   41432968   \n",
      "128  2-oxoglutarate (2OG) and Fe(II)-dependent oxyg...   238143557  238145188   \n",
      "\n",
      "     distance experiment                trait          snp chrom        pos  \\\n",
      "0       18677  282F_SC_5  cc1539.GLM.1.29.GLM   4-32678274     4   34227226   \n",
      "1       64295  282F_SC_5   cc824.GLM.1.17.GLM  10-34087255    10   35036696   \n",
      "2        5859  282F_SC_5   cc953.GLM.1.03.GLM  7-153855138     7  159149388   \n",
      "3         468  282F_SC_5   cc985.GLM.1.21.GLM   1-59472251     1   60190669   \n",
      "4           0  282F_SC_5  cc1847.GLM.1.07.GLM  4-169646677     4  172596435   \n",
      "..        ...        ...                  ...          ...   ...        ...   \n",
      "124     64461  282F_SC_5   cc781.GLM.1.08.GLM  2-150084525     2  154043220   \n",
      "125      1963  282F_SC_5  cc1343.GLM.1.21.GLM   3-43663714     3   43119204   \n",
      "126      1465  282F_SC_5   cc114.GLM.1.12.GLM   2-40423021     2   41413893   \n",
      "127      6807  282F_SC_5   cc114.GLM.1.12.GLM   2-40423021     2   41413893   \n",
      "128      7434  282F_SC_5   cc1404.GLM.1.5.GLM  2-231961710     2  238152622   \n",
      "\n",
      "             pval    effect       rpos  \n",
      "0    6.043896e-10 -0.000002   34200000  \n",
      "1    1.616159e-09 -0.000002   35000000  \n",
      "2    1.003216e-10  0.000001  159100000  \n",
      "3    2.541012e-34  0.000011   60200000  \n",
      "4    1.110248e-10  0.000003  172600000  \n",
      "..            ...       ...        ...  \n",
      "124  3.335983e-13  0.000004  154000000  \n",
      "125  3.895409e-10  0.000007   43100000  \n",
      "126  3.140761e-11  0.000004   41400000  \n",
      "127  3.140761e-11  0.000004   41400000  \n",
      "128  9.939884e-15 -0.000009  238200000  \n",
      "\n",
      "[129 rows x 14 columns]\n"
     ]
    }
   ],
   "source": [
    "print(df)"
   ]
  },
  {
   "cell_type": "code",
   "execution_count": null,
   "id": "caroline-stroke",
   "metadata": {},
   "outputs": [],
   "source": [
    "df.groupby(pd.cut(df[\"B\"], np.arange(0, 1.0+0.155, 0.155))).sum()"
   ]
  },
  {
   "cell_type": "code",
   "execution_count": null,
   "id": "portable-bench",
   "metadata": {},
   "outputs": [],
   "source": [
    "df."
   ]
  }
 ],
 "metadata": {
  "kernelspec": {
   "display_name": "Python 3",
   "language": "python",
   "name": "python3"
  },
  "language_info": {
   "codemirror_mode": {
    "name": "ipython",
    "version": 3
   },
   "file_extension": ".py",
   "mimetype": "text/x-python",
   "name": "python",
   "nbconvert_exporter": "python",
   "pygments_lexer": "ipython3",
   "version": "3.8.5"
  }
 },
 "nbformat": 4,
 "nbformat_minor": 5
}
