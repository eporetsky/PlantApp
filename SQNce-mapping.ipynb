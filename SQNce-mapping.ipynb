{
 "cells": [
  {
   "cell_type": "code",
   "execution_count": null,
   "id": "applied-conditioning",
   "metadata": {},
   "outputs": [],
   "source": [
    "import os\n",
    "import gzip\n",
    "import sqlite3\n",
    "import zlib\n",
    "import io\n",
    "import numpy as np\n",
    "#from sqlite3 import Error\n",
    "import pandas as pd\n",
    "from collections import OrderedDict\n",
    "\n",
    "from Bio import SeqIO \n",
    "from Bio.SeqRecord import SeqRecord\n",
    "from Bio.Seq import Seq"
   ]
  },
  {
   "cell_type": "markdown",
   "id": "overhead-costume",
   "metadata": {},
   "source": [
    "# SQNce Mapping-related Tables"
   ]
  },
  {
   "cell_type": "code",
   "execution_count": null,
   "id": "hired-arabic",
   "metadata": {},
   "outputs": [],
   "source": [
    "# TODO add documentation to all SQNce creation functions\n",
    "\n",
    "# Establish connection with SQNce.db, generating a new SQLite3 database if needed\n",
    "def sql_connection():\n",
    "    con = sqlite3.connect('SQNce.db')\n",
    "    print(\"Connection established.\")\n",
    "    \n",
    "# After establishing connection with SQNce create the specified tables\n",
    "def sql_table(con):\n",
    "    cursorObj = con.cursor()\n",
    "    \n",
    "    cursorObj.execute(\"\"\"CREATE TABLE IF NOT EXISTS mapping_traits(\n",
    "                         experiment text,\n",
    "                         trait text,\n",
    "                         description text,\n",
    "                         plot blob,\n",
    "                         processed text,\n",
    "                         score integer,\n",
    "                         num_candidates integer)\n",
    "                         \"\"\")   \n",
    "\n",
    "    cursorObj.execute(\"\"\"CREATE TABLE IF NOT EXISTS mapping_results(\n",
    "                         experiment text,\n",
    "                         trait text,\n",
    "                         snp text,\n",
    "                         chrom text,\n",
    "                         pos integer,\n",
    "                         ref text,\n",
    "                         alt text,\n",
    "                         effect REAL,\n",
    "                         pval REAL)\n",
    "                         \"\"\")\n",
    "    cursorObj.execute(\"\"\"CREATE TABLE IF NOT EXISTS mapping_candidates(\n",
    "                         gene_id text,\n",
    "                         gene_symbol text,\n",
    "                         gene_annotation text,\n",
    "                         gene_start integer,\n",
    "                         gene_end integer,\n",
    "                         distance integer,\n",
    "                         experiment text,\n",
    "                         trait text,\n",
    "                         snp text,\n",
    "                         chrom text,\n",
    "                         pos integer,\n",
    "                         pval REAL,\n",
    "                         effect REAL)\n",
    "                         \"\"\")\n",
    "    cursorObj.execute(\"\"\"CREATE TABLE IF NOT EXISTS mapping_clusters(\n",
    "                         experiment text,\n",
    "                         trait text,\n",
    "                         feature text,\n",
    "                         description text)\n",
    "                         \"\"\")\n",
    "    \n",
    "    con.commit()"
   ]
  },
  {
   "cell_type": "code",
   "execution_count": null,
   "id": "dramatic-covering",
   "metadata": {},
   "outputs": [],
   "source": [
    "con = sqlite3.connect('SQNce.db')\n",
    "def drop_trait_tables(con):\n",
    "    cursorObj = con.cursor()\n",
    "    cursorObj.execute(\"\"\"DROP TABLE mapping_traits\"\"\")\n",
    "    cursorObj.execute(\"\"\"DROP TABLE mapping_results\"\"\")\n",
    "    cursorObj.execute(\"\"\"DROP TABLE mapping_candidates\"\"\")\n",
    "    cursorObj.execute(\"\"\"DROP TABLE mapping_clusters\"\"\")\n",
    "    con.commit()\n",
    "drop_trait_tables(con)\n",
    "con.close()"
   ]
  },
  {
   "cell_type": "code",
   "execution_count": null,
   "id": "differential-college",
   "metadata": {},
   "outputs": [],
   "source": [
    "# Current implementation requires re-parsing of all the input files to create SQNce\n",
    "# TODO SQNce update functions to parse input data only if not previously included \n",
    "#if os.path.exists(\"SQNce-proteomes.db\"): os.remove(\"SQNce-proteomes.db\")\n",
    "con = sqlite3.connect('SQNce.db')\n",
    "sql_table(con)\n",
    "con.close()"
   ]
  },
  {
   "cell_type": "markdown",
   "id": "harmful-sally",
   "metadata": {},
   "source": [
    "# SQNce Mapping-related Functions"
   ]
  },
  {
   "cell_type": "code",
   "execution_count": null,
   "id": "introductory-worship",
   "metadata": {},
   "outputs": [],
   "source": [
    "def mapping_traits_insert_traits(con, entities):\n",
    "    cursorObj = con.cursor()\n",
    "    cursorObj.executemany(\"\"\"INSERT INTO mapping_traits(\n",
    "                         experiment, \n",
    "                         trait, \n",
    "                         description,\n",
    "                         plot,\n",
    "                         processed,\n",
    "                         score,\n",
    "                         num_candidates) \n",
    "                         VALUES(?,?,?,?,?,?,?)\"\"\", entities)\n",
    "    con.commit()\n",
    "\n",
    "def mapping_traits_insert_results(con, entities):\n",
    "    cursorObj = con.cursor()\n",
    "    cursorObj.executemany(\"\"\"INSERT INTO mapping_results(\n",
    "                         experiment, \n",
    "                         trait, \n",
    "                         snp,\n",
    "                         chrom,\n",
    "                         pos,\n",
    "                         ref,\n",
    "                         alt,\n",
    "                         effect,\n",
    "                         pval) \n",
    "                         VALUES(?,?,?,?,?,?,?,?,?)\"\"\", entities)\n",
    "    con.commit()\n",
    "    \n",
    "def mapping_traits_insert_candidates(con, entities):\n",
    "    cursorObj = con.cursor()\n",
    "    cursorObj.execute(\"\"\"INSERT INTO mapping_candidates(\n",
    "                         gene_id, \n",
    "                         gene_symbol, \n",
    "                         gene_annotation,\n",
    "                         gene_start,\n",
    "                         gene_end,\n",
    "                         distance,\n",
    "                         experiment,\n",
    "                         trait,\n",
    "                         snp,\n",
    "                         chrom,\n",
    "                         pos,\n",
    "                         pval,\n",
    "                         effect) \n",
    "                         VALUES(?,?,?,?,?,?,?,?,?,?,?,?,?)\"\"\", entities)\n",
    "    con.commit()\n",
    "    \n",
    "def mapping_traits_insert_clusters(con, entities):\n",
    "    cursorObj = con.cursor()\n",
    "    cursorObj.executemany(\"\"\"INSERT INTO mapping_clusters(\n",
    "                         experiment, \n",
    "                         trait, \n",
    "                         feature,\n",
    "                         description) \n",
    "                         VALUES(?,?,?,?)\"\"\", entities)\n",
    "    con.commit()\n",
    "\n",
    "\n"
   ]
  },
  {
   "cell_type": "markdown",
   "id": "patent-switzerland",
   "metadata": {},
   "source": [
    "# SQNce Load the rMVP GLM GWAS Results"
   ]
  },
  {
   "cell_type": "markdown",
   "id": "suspected-beginning",
   "metadata": {},
   "source": [
    "# Add the mapping results and traits to the tables"
   ]
  },
  {
   "cell_type": "code",
   "execution_count": null,
   "id": "lyric-dublin",
   "metadata": {},
   "outputs": [],
   "source": [
    "con = sqlite3.connect('SQNce.db')\n",
    "\n",
    "description_dict = {\"282F_SC_e5\": \"rMVP GLM 5PCs of 282_SC MR network with e5\",\n",
    "                    \"krelmling_root_e10\": \"rMVP GLM 5PCs of Kremling root RNAseq MR network with e10\",\n",
    "                    \"282F_GCMS\": \"rMVP GLM 5PCs of our 282 GCMS data\"}\n",
    "\n",
    "for experiment in [\"282F_SC_e5\", \"krelmling_root_e10\", \"282F_GCMS\"]:\n",
    "    cwd = os.getcwd()\n",
    "    folder_path = os.path.join(cwd, \"mapping\", experiment)\n",
    "\n",
    "    # The name of the experiment is also the name of the folder\n",
    "\n",
    "    fl_pvals_dict = {}\n",
    "    fl_plots_dict = {}\n",
    "    fl_name_set = set()\n",
    "    for fl in os.listdir(folder_path):\n",
    "        # Assume for now only my output files are used\n",
    "        if fl.split(\".\")[-1] == \"png\":\n",
    "            fl_name = fl.replace(\".png\", \"\")\n",
    "            fl_plots_dict[fl_name] = fl\n",
    "        if fl.split(\".\")[-1] == \"csv\":\n",
    "            fl_name = fl.replace(\".sig.csv\", \"\")\n",
    "            fl_pvals_dict[fl_name] = fl\n",
    "        fl_name_set.add(fl_name)\n",
    "    fl_name_set\n",
    "\n",
    "\n",
    "    all_traits_list = []\n",
    "    all_results_list = []\n",
    "    \n",
    "    count_trait = 0\n",
    "    # The name of the trait is also the name of the file\n",
    "    for trait in fl_name_set:\n",
    "        # Load the trait results dataframe\n",
    "        filename = os.path.join(folder_path, fl_pvals_dict[trait])\n",
    "        df = pd.read_csv(filename)\n",
    "        if len(df) == 0:\n",
    "            continue\n",
    "        df = df.sort_values(df.columns[-1])\n",
    "        \n",
    "        ##### Empty dataframes are skipped (no sig values) #####\n",
    "        count_trait += 1\n",
    "\n",
    "        # Load the trait plot binary variable\n",
    "        filename = os.path.join(folder_path, fl_plots_dict[trait])\n",
    "        with open(filename, 'rb') as file: plot_blob = file.read()\n",
    "        \n",
    "        description = description_dict[experiment]\n",
    "        all_traits_list.append([experiment, trait, description, plot_blob, \"Unannotated\", 0, 0])    \n",
    "\n",
    "        # List order: experiment,trait,snp,chrom,pos,ref,alt,effect,pval,plot\n",
    "        #selected_rows_ix = [0]\n",
    "        #selected_rows = df.iloc[selected_rows_ix,].values.tolist()\n",
    "        selected_rows = df.values.tolist()\n",
    "\n",
    "        for row in selected_rows:\n",
    "            all_results_list.append([experiment, trait, row[0], row[1], row[2], row[3], row[4], row[5], row[7]])\n",
    "    mapping_traits_insert_traits(con, all_traits_list)\n",
    "    mapping_traits_insert_results(con, all_results_list)"
   ]
  },
  {
   "cell_type": "markdown",
   "id": "varied-riding",
   "metadata": {},
   "source": [
    "# Adding clustered traits to mapping_clusters"
   ]
  },
  {
   "cell_type": "code",
   "execution_count": null,
   "id": "daily-consultation",
   "metadata": {},
   "outputs": [],
   "source": [
    "con = sqlite3.connect('SQNce.db')\n",
    "cwd = os.getcwd()\n",
    "all_clusters_list = []\n",
    "for experiment in [\"282F_SC_e5\", \"krelmling_root_e10\"]:\n",
    "    folder_path = os.path.join(cwd, \"mapping\", experiment+\".tsv\")\n",
    "    tmp = pd.read_csv(folder_path, sep=\"\\t\")\n",
    "    tmp.columns = [\"feature\", \"trait\"]\n",
    "    tmp[\"experiment\"] = experiment\n",
    "    tmp[\"description\"] = \"\"\n",
    "    tmp = tmp[[\"experiment\", \"trait\", \"feature\", \"description\"]]\n",
    "    all_clusters_list += tmp.values.tolist() \n",
    "mapping_traits_insert_clusters(con, all_clusters_list)"
   ]
  },
  {
   "cell_type": "markdown",
   "id": "separated-methodology",
   "metadata": {},
   "source": [
    "# Renaming all files in folder\n",
    "(I previously added lambda values to file names and now I regret it)"
   ]
  },
  {
   "cell_type": "code",
   "execution_count": null,
   "id": "stuffed-ontario",
   "metadata": {},
   "outputs": [],
   "source": [
    "# This works for the clusters\n",
    "for experiment in [\"282F_SC_e5\", \"krelmling_root_e10\"]:\n",
    "    folder_path = os.path.join(cwd, \"mapping\", experiment)\n",
    "    for fname in os.listdir(folder_path):\n",
    "        ftype = fname.split(\".\")[-1]\n",
    "        if ftype == \"csv\":\n",
    "            ftype = \"sig.csv\"\n",
    "        new_name = \".\".join([fname.split(\".\")[0],experiment,ftype])\n",
    "        os.rename(os.path.join(folder_path, fname), \n",
    "                  os.path.join(folder_path, new_name))"
   ]
  },
  {
   "cell_type": "code",
   "execution_count": null,
   "id": "operational-attempt",
   "metadata": {},
   "outputs": [],
   "source": [
    "# This works for the features that have a dot in the name\n",
    "for experiment in [\"282F_GCMS\"]:\n",
    "    folder_path = os.path.join(cwd, \"mapping\", experiment)\n",
    "    for fname in os.listdir(folder_path):\n",
    "        ftype = fname.split(\".\")[-1]\n",
    "        if ftype == \"csv\":\n",
    "            ftype = \"sig.csv\"\n",
    "        new_name = \".\".join([fname.split(\".\")[0],fname.split(\".\")[1],experiment,ftype])\n",
    "        os.rename(os.path.join(folder_path, fname), \n",
    "                  os.path.join(folder_path, new_name))"
   ]
  },
  {
   "cell_type": "markdown",
   "id": "third-pension",
   "metadata": {},
   "source": [
    "# Generating tooltips for datatables"
   ]
  },
  {
   "cell_type": "code",
   "execution_count": null,
   "id": "threatened-surprise",
   "metadata": {},
   "outputs": [],
   "source": [
    "con = sqlite3.connect('SQNce.db')\n",
    "df = pd.read_sql_query('''SELECT * FROM mapping_candidates''', con)  \n",
    "df[\"pval\"] = df[\"pval\"].apply(lambda x: np.round(-np.log10(x), 2))\n",
    "df[\"bin\"] = df[\"pos\"].apply(lambda x: round(x, -5)/100000)\n",
    "df = df.drop_duplicates() # Just in case\n",
    "df"
   ]
  },
  {
   "cell_type": "code",
   "execution_count": null,
   "id": "contrary-turtle",
   "metadata": {},
   "outputs": [],
   "source": [
    "tooltip_data=[{column: {'value': str(row), 'type': 'markdown'}\n",
    "            for column, value in row.items()\n",
    "        } for row in df.to_dict('records')],\n",
    "\n",
    "table = \"mapping_clusters\"\n",
    "count = 0\n",
    "for row in df[\"trait\"]:\n",
    "    cursorObj = con.cursor()\n",
    "    cursorObj.execute('''SELECT feature FROM \"mapping_clusters\" WHERE trait=?''', tuple([row]))\n",
    "    selected = cursorObj.fetchall()\n",
    "    print(selected)\n",
    "    if selected == []:\n",
    "        count += 1\n",
    "        continue\n",
    "    else:\n",
    "        tooltip_data[0][count][\"trait\"][\"value\"] = \" \".join([x[0] for x in selected])\n",
    "        count += 1"
   ]
  },
  {
   "cell_type": "markdown",
   "id": "eight-dublin",
   "metadata": {},
   "source": [
    "# Add new columns to the mapping candidates table"
   ]
  },
  {
   "cell_type": "code",
   "execution_count": null,
   "id": "superb-quick",
   "metadata": {},
   "outputs": [],
   "source": [
    "# Inserting an empty to column. df.to_sql seems to be more useful\n",
    "con = sqlite3.connect('SQNce.db')\n",
    "cursorObj = con.cursor()\n",
    "cursorObj.execute(\"ALTER TABLE mapping_candidates ADD COLUMN {0} 'text'\".format(\"bins\"))\n",
    "# This is supposed to be safer but I can't get it to work\n",
    "#cursorObj.execute(\"ALTER TABLE mapping_candidates ADD COLUMN (?) 'text'\", (\"bins\",))\n",
    "cursorObj.commit()\n",
    "cursorObj.close()"
   ]
  },
  {
   "cell_type": "code",
   "execution_count": null,
   "id": "broadband-exploration",
   "metadata": {},
   "outputs": [],
   "source": [
    "# Add the bins column\n",
    "con = sqlite3.connect('SQNce.db')\n",
    "df = pd.read_sql(\"select * from mapping_candidates\", con=con)\n",
    "def bins_apply(row):\n",
    "    chrom = row[\"chrom\"]\n",
    "    pos = row[\"pos\"]\n",
    "    # https://blog.finxter.com/python-int-to-string-with-leading-zeros/\n",
    "    # Bins are 4-digits, so add leading zeros to make them more sortable\n",
    "    return \"_\".join([str(chrom),str(int(round(pos, -5)/100000)).zfill(4)])\n",
    "df[\"bins\"] = df[[\"chrom\",\"pos\"]].apply(bins_apply, axis=1)\n",
    "df.to_sql('mapping_candidates', con, if_exists='replace', index=False)"
   ]
  },
  {
   "cell_type": "code",
   "execution_count": null,
   "id": "infrared-assignment",
   "metadata": {},
   "outputs": [],
   "source": [
    "# Add the cluster trait joined column\n",
    "\n",
    "con = sqlite3.connect('SQNce.db')\n",
    "df = pd.read_sql(\"select * from mapping_candidates\", con=con)\n",
    "dfc = pd.read_sql(\"select * from mapping_clusters\", con=con)\n",
    "def clusters_apply(row):\n",
    "    exper, clust = row[\"experiment\"], row[\"trait\"]\n",
    "    #if \"cc\" not in clust:\n",
    "    #    print(exper, clust)\n",
    "    #    return(\"\")\n",
    "    return \";\".join(dfc[(dfc[\"experiment\"]==exper) & (dfc[\"trait\"]==clust)][\"feature\"])   \n",
    "df[\"clustered_traits\"] = df[[\"experiment\",\"trait\"]].apply(clusters_apply, axis=1)\n",
    "df.to_sql('mapping_candidates', con, if_exists='replace', index=False)\n"
   ]
  },
  {
   "cell_type": "markdown",
   "id": "serious-elizabeth",
   "metadata": {},
   "source": [
    "# html.Img Related"
   ]
  },
  {
   "cell_type": "code",
   "execution_count": null,
   "id": "historical-chair",
   "metadata": {},
   "outputs": [],
   "source": [
    "from io import BytesIO\n",
    "def pil_to_b64(im, enc_format=\"png\", **kwargs):\n",
    "    \"\"\"\n",
    "    Converts a PIL Image into base64 string for HTML displaying\n",
    "    :param im: PIL Image object\n",
    "    :param enc_format: The image format for displaying. If saved the image will have that extension.\n",
    "    :return: base64 encoding\n",
    "    \"\"\"\n",
    "\n",
    "    buff = BytesIO()\n",
    "    im.save(buff, format=enc_format, **kwargs)\n",
    "    encoded = base64.b64encode(buff.getvalue()).decode(\"utf-8\")\n",
    "\n",
    "    return encoded\n",
    "\n",
    "# https://stackoverflow.com/questions/14348442/how-do-i-display-a-pil-image-object-in-a-template#14348661\n",
    "import PIL\n",
    "import io\n",
    "from PIL import Image\n",
    "\n",
    "picture_stream = io.BytesIO(fig)\n",
    "picture = Image.open(picture_stream)\n",
    "# In dash you can send the image to html.Img like this:\n",
    "# html.Img(id=\"my-img\",className=\"image\", src=\"data:image/png;base64, \" + pil_to_b64(picture))\n",
    "\n",
    "# picture = PIL.Image.open(picture_stream)\n",
    "# picture.show()\n",
    "# pil_to_b64(picture)"
   ]
  },
  {
   "cell_type": "markdown",
   "id": "following-keeping",
   "metadata": {},
   "source": [
    "# Creating thumbnails\n",
    "(I ended up not using it but might be a nice option to keep in mind)"
   ]
  },
  {
   "cell_type": "code",
   "execution_count": null,
   "id": "lesbian-factory",
   "metadata": {},
   "outputs": [],
   "source": [
    "import os\n",
    "from PIL import Image\n",
    "# https://www.tutorialspoint.com/python_pillow/python_pillow_creating_thumbnails.htm\n",
    "cwd = os.getcwd()\n",
    "def tnails(fpath, fname):\n",
    "    image = Image.open(os.path.join(fpath, fname))\n",
    "    image.thumbnail((300,300))\n",
    "    image.save(os.path.join(fpath, fname.replace(\".png\", \".thumb.png\")))\n",
    "\n",
    "folder_path = os.path.join(cwd, \"mapping\", \"experiment_folder\")\n",
    "\n",
    "for fname in os.listdir(folder_path):\n",
    "    if fname.split(\".\")[-1] == \"csv\":\n",
    "        continue\n",
    "    tnails(folder_path, fname)"
   ]
  },
  {
   "cell_type": "markdown",
   "id": "sustainable-equity",
   "metadata": {},
   "source": [
    "# Failed attempt to insert png into dash datatable tooltip\n",
    "(I assume that it just won't render it, it does show the text correctly)"
   ]
  },
  {
   "cell_type": "code",
   "execution_count": null,
   "id": "short-authorization",
   "metadata": {},
   "outputs": [],
   "source": [
    "cursorObj = con.cursor()\n",
    "cursorObj.execute(\"\"\"SELECT plot FROM mapping_traits WHERE trait= ? \"\"\", (row,))\n",
    "fig = cursorObj.fetchall()[0][0]\n",
    "picture_stream = io.BytesIO(fig)\n",
    "picture = Image.open(picture_stream)\n",
    "#tooltip_data[0][count][\"gene_id\"][\"value\"] = '![Big Bear Lake](https://upload.wikimedia.org/wikipedia/commons/thumb/d/d9/Big_Bear_Valley%2C_California.jpg/1200px-Big_Bear_Valley%2C_California.jpg)'\n",
    "#tooltip_data[0][count][\"gene_id\"][\"value\"] = '<p><img src=\"data:image/png;base64,'+pil_to_b64(picture)+'></p>'\n",
    "tooltip_data[0][count][\"gene_id\"][\"value\"] = '![](data:image/png;base64,'+pil_to_b64(picture)+')'\n",
    "\n",
    "# You could technically display images inside the cell but I couldn't figure out how to stream it as base64. Link worked though\n",
    "# In the dash datatable you will have to set: markdown_options= {\"html\": True},\n",
    "img_list.append('<img height=\"40px\" src=\"https://images.plot.ly/logo/new-branding/plotly-logomark.png\">')"
   ]
  },
  {
   "cell_type": "markdown",
   "id": "corresponding-ancient",
   "metadata": {},
   "source": [
    "# Groupby Bins"
   ]
  },
  {
   "cell_type": "code",
   "execution_count": null,
   "id": "closed-solution",
   "metadata": {},
   "outputs": [],
   "source": [
    "df = pd.read_sql_query('''SELECT * FROM mapping_candidates''', con)\n",
    "df.head()"
   ]
  }
 ],
 "metadata": {
  "kernelspec": {
   "display_name": "Python 3",
   "language": "python",
   "name": "python3"
  },
  "language_info": {
   "codemirror_mode": {
    "name": "ipython",
    "version": 3
   },
   "file_extension": ".py",
   "mimetype": "text/x-python",
   "name": "python",
   "nbconvert_exporter": "python",
   "pygments_lexer": "ipython3",
   "version": "3.8.5"
  }
 },
 "nbformat": 4,
 "nbformat_minor": 5
}
